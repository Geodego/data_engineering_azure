{
 "cells": [
  {
   "cell_type": "code",
   "execution_count": 9,
   "id": "initial_id",
   "metadata": {
    "collapsed": true,
    "ExecuteTime": {
     "end_time": "2024-01-25T07:41:38.254062848Z",
     "start_time": "2024-01-25T07:41:38.242645743Z"
    }
   },
   "outputs": [],
   "source": [
    "from pyspark.sql import SparkSession\n",
    "from pyspark.sql.functions import udf, avg, desc, col\n",
    "from pyspark.sql.functions import sum as Fsum\n",
    "from pyspark.sql.types import IntegerType\n",
    "from pyspark.sql.window import Window\n"
   ]
  },
  {
   "cell_type": "code",
   "outputs": [
    {
     "name": "stderr",
     "output_type": "stream",
     "text": [
      "24/01/25 08:40:43 WARN Utils: Your hostname, geoffroy-XPS-15-9520 resolves to a loopback address: 127.0.1.1; using 192.168.13.63 instead (on interface wlp0s20f3)\n",
      "24/01/25 08:40:43 WARN Utils: Set SPARK_LOCAL_IP if you need to bind to another address\n",
      "Setting default log level to \"WARN\".\n",
      "To adjust logging level use sc.setLogLevel(newLevel). For SparkR, use setLogLevel(newLevel).\n",
      "24/01/25 08:40:44 WARN NativeCodeLoader: Unable to load native-hadoop library for your platform... using builtin-java classes where applicable\n"
     ]
    }
   ],
   "source": [
    "spark = (SparkSession.builder\n",
    "\t\t .appName('df_ex')\n",
    "\t\t .getOrCreate())"
   ],
   "metadata": {
    "collapsed": false,
    "ExecuteTime": {
     "end_time": "2024-01-25T07:40:45.437017758Z",
     "start_time": "2024-01-25T07:40:42.176509111Z"
    }
   },
   "id": "bdf3eb702d2b50bb",
   "execution_count": 2
  },
  {
   "cell_type": "code",
   "outputs": [
    {
     "name": "stderr",
     "output_type": "stream",
     "text": [
      "                                                                                \r"
     ]
    }
   ],
   "source": [
    "file = 'data/sparkify_log_small.json'\n",
    "df = spark.read.json(file)"
   ],
   "metadata": {
    "collapsed": false,
    "ExecuteTime": {
     "end_time": "2024-01-25T07:40:50.363479695Z",
     "start_time": "2024-01-25T07:40:45.438710842Z"
    }
   },
   "id": "4553827810cf6ee4",
   "execution_count": 3
  },
  {
   "cell_type": "code",
   "outputs": [
    {
     "name": "stdout",
     "output_type": "stream",
     "text": [
      "root\n",
      " |-- artist: string (nullable = true)\n",
      " |-- auth: string (nullable = true)\n",
      " |-- firstName: string (nullable = true)\n",
      " |-- gender: string (nullable = true)\n",
      " |-- itemInSession: long (nullable = true)\n",
      " |-- lastName: string (nullable = true)\n",
      " |-- length: double (nullable = true)\n",
      " |-- level: string (nullable = true)\n",
      " |-- location: string (nullable = true)\n",
      " |-- method: string (nullable = true)\n",
      " |-- page: string (nullable = true)\n",
      " |-- registration: long (nullable = true)\n",
      " |-- sessionId: long (nullable = true)\n",
      " |-- song: string (nullable = true)\n",
      " |-- status: long (nullable = true)\n",
      " |-- ts: long (nullable = true)\n",
      " |-- userAgent: string (nullable = true)\n",
      " |-- userId: string (nullable = true)\n"
     ]
    }
   ],
   "source": [
    "df.printSchema()"
   ],
   "metadata": {
    "collapsed": false,
    "ExecuteTime": {
     "end_time": "2024-01-25T07:40:50.364743568Z",
     "start_time": "2024-01-25T07:40:50.329222879Z"
    }
   },
   "id": "d50630c06867ff06",
   "execution_count": 4
  },
  {
   "cell_type": "markdown",
   "source": [
    "# Q1\n",
    "which page did user id \"\" (empty string) NOT visit?"
   ],
   "metadata": {
    "collapsed": false
   },
   "id": "163b19a780c7c9b9"
  },
  {
   "cell_type": "code",
   "outputs": [
    {
     "name": "stdout",
     "output_type": "stream",
     "text": [
      "+-----+\n",
      "| page|\n",
      "+-----+\n",
      "| Home|\n",
      "|About|\n",
      "|Login|\n",
      "| Help|\n",
      "+-----+\n"
     ]
    }
   ],
   "source": [
    "df.filter(df.userId == '') \\\n",
    "\t.select('page') \\\n",
    "    .dropDuplicates() \\\n",
    "\t.show()"
   ],
   "metadata": {
    "collapsed": false,
    "ExecuteTime": {
     "end_time": "2024-01-25T07:40:51.608405237Z",
     "start_time": "2024-01-25T07:40:50.348398591Z"
    }
   },
   "id": "8cb7aca8dadc94d4",
   "execution_count": 5
  },
  {
   "cell_type": "markdown",
   "source": [
    "# Q2\n",
    "How many female users do we have in the data set?"
   ],
   "metadata": {
    "collapsed": false
   },
   "id": "dce5984be18a13d8"
  },
  {
   "cell_type": "markdown",
   "source": [],
   "metadata": {
    "collapsed": false
   },
   "id": "4617fcf61423b014"
  },
  {
   "cell_type": "code",
   "outputs": [
    {
     "data": {
      "text/plain": "462"
     },
     "execution_count": 6,
     "metadata": {},
     "output_type": "execute_result"
    }
   ],
   "source": [
    "df.filter(df.gender == 'F') \\\n",
    "\t.select(['userId', 'gender']) \\\n",
    "\t.dropDuplicates() \\\n",
    "\t.count()"
   ],
   "metadata": {
    "collapsed": false,
    "ExecuteTime": {
     "end_time": "2024-01-25T07:40:52.248281547Z",
     "start_time": "2024-01-25T07:40:51.599816302Z"
    }
   },
   "id": "bc4a4b39e4028f93",
   "execution_count": 6
  },
  {
   "cell_type": "markdown",
   "source": [
    "# Q3\n",
    "How many songs were played from the most played artist?"
   ],
   "metadata": {
    "collapsed": false
   },
   "id": "d1290b44023bc1a1"
  },
  {
   "cell_type": "code",
   "outputs": [
    {
     "name": "stdout",
     "output_type": "stream",
     "text": [
      "+--------------------+-----+\n",
      "|              artist|count|\n",
      "+--------------------+-----+\n",
      "|                NULL| 1653|\n",
      "|            Coldplay|   83|\n",
      "|       Kings Of Leon|   69|\n",
      "|Florence + The Ma...|   52|\n",
      "|            BjÃÂ¶rk|   46|\n",
      "+--------------------+-----+\n"
     ]
    }
   ],
   "source": [
    "df.groupBy('artist').count().orderBy('count', ascending=False).show(5)"
   ],
   "metadata": {
    "collapsed": false,
    "ExecuteTime": {
     "end_time": "2024-01-25T07:40:52.874857278Z",
     "start_time": "2024-01-25T07:40:52.228241345Z"
    }
   },
   "id": "a0568e6e8aa4fac6",
   "execution_count": 7
  },
  {
   "cell_type": "markdown",
   "source": [
    "# Q4\n",
    "How many songs do users listen to on average between visiting our home page? Please round your answer to the closest integer."
   ],
   "metadata": {
    "collapsed": false
   },
   "id": "15a954c3826b0f23"
  },
  {
   "cell_type": "code",
   "outputs": [
    {
     "name": "stderr",
     "output_type": "stream",
     "text": [
      "[Stage 13:=============================>                            (1 + 1) / 2]\r"
     ]
    },
    {
     "name": "stdout",
     "output_type": "stream",
     "text": [
      "+------------------+\n",
      "|avg(count(period))|\n",
      "+------------------+\n",
      "| 6.898347107438017|\n",
      "+------------------+\n"
     ]
    },
    {
     "name": "stderr",
     "output_type": "stream",
     "text": [
      "                                                                                \r"
     ]
    }
   ],
   "source": [
    "# This UDF converts the page visits to a binary flag, where visiting the home page ('Home') is marked as 1, and all other page visits are marked as 0.\n",
    "function = udf(lambda ishome : int(ishome == 'Home'), IntegerType())\n",
    "\n",
    "# This window specification partitions the data by userID and orders the rows by timestamp (ts) in descending order. The rangeBetween(Window.unboundedPreceding, 0) indicates that the window frame starts from the first row in the partition up to the current row.\n",
    "user_window = Window \\\n",
    "    .partitionBy('userID') \\\n",
    "    .orderBy(desc('ts')) \\\n",
    "    .rangeBetween(Window.unboundedPreceding, 0)\n",
    "\n",
    "cusum = df.filter((df.page == 'NextSong') | (df.page == 'Home')) \\\n",
    "    .select('userID', 'page', 'ts') \\\n",
    "    .withColumn('homevisit', function(col('page'))) \\\n",
    "    .withColumn('period', Fsum('homevisit').over(user_window))\n",
    "\n",
    "cusum.filter((cusum.page == 'NextSong')) \\\n",
    "    .groupBy('userID', 'period') \\\n",
    "    .agg({'period':'count'}) \\\n",
    "    .agg({'count(period)':'avg'}).show()"
   ],
   "metadata": {
    "collapsed": false,
    "ExecuteTime": {
     "end_time": "2024-01-25T07:41:49.994821366Z",
     "start_time": "2024-01-25T07:41:48.235311230Z"
    }
   },
   "id": "6e58af9971f05223",
   "execution_count": 10
  },
  {
   "cell_type": "markdown",
   "source": [
    "### Lets analyse step by step the process used in the solution above"
   ],
   "metadata": {
    "collapsed": false
   },
   "id": "16883acec733a0ea"
  },
  {
   "cell_type": "markdown",
   "source": [
    "#### step 1: cumsum\n",
    "A new column, homevisit, is created using the UDF. It marks rows where the page is 'Home'.\n",
    "Another column, period, is created to cumulatively sum the homevisit flags within each user's partition, effectively segmenting the data into periods based on home page visits. Each period represents the time from one home page visit to the next for a given user."
   ],
   "metadata": {
    "collapsed": false
   },
   "id": "ef2612f3577795a5"
  },
  {
   "cell_type": "code",
   "outputs": [
    {
     "name": "stdout",
     "output_type": "stream",
     "text": [
      "+------+--------+-------------+---------+------+\n",
      "|userID|    page|           ts|homevisit|period|\n",
      "+------+--------+-------------+---------+------+\n",
      "|   100|    Home|1513839673284|        1|     1|\n",
      "|   100|NextSong|1513776308284|        0|     1|\n",
      "|   100|    Home|1513776194284|        1|     2|\n",
      "|   100|NextSong|1513775710284|        0|     2|\n",
      "|   100|NextSong|1513775556284|        0|     2|\n",
      "|   100|    Home|1513775431284|        1|     3|\n",
      "|   100|NextSong|1513750442284|        0|     3|\n",
      "|   100|NextSong|1513750214284|        0|     3|\n",
      "+------+--------+-------------+---------+------+\n"
     ]
    }
   ],
   "source": [
    "cusum.filter(cusum.userID == 100).show()"
   ],
   "metadata": {
    "collapsed": false,
    "ExecuteTime": {
     "end_time": "2024-01-25T08:12:50.782183405Z",
     "start_time": "2024-01-25T08:12:50.500992024Z"
    }
   },
   "id": "65cdd6393853e30d",
   "execution_count": 15
  },
  {
   "cell_type": "markdown",
   "source": [],
   "metadata": {
    "collapsed": false
   },
   "id": "fac0676f58b00bcb"
  },
  {
   "cell_type": "markdown",
   "source": [
    "#### step 2: count the number of songs played in each period"
   ],
   "metadata": {
    "collapsed": false
   },
   "id": "df0c8ec4525c899a"
  },
  {
   "cell_type": "code",
   "outputs": [
    {
     "name": "stdout",
     "output_type": "stream",
     "text": [
      "+------+------+-------------+\n",
      "|userID|period|count(period)|\n",
      "+------+------+-------------+\n",
      "|   100|     1|            1|\n",
      "|   100|     2|            2|\n",
      "|   100|     3|            2|\n",
      "+------+------+-------------+\n"
     ]
    }
   ],
   "source": [
    "period_count = cusum.filter((cusum.page == 'NextSong')) \\\n",
    "\t.groupBy('userID', 'period') \\\n",
    "\t.agg({'period':'count'}) \\\n",
    "\n",
    "# in our previous example we see that 1 song was listened to in period 1, 2 songs in period 2, and 2 songs in period 3.\n",
    "period_count.filter(period_count.userID == 100).show()"
   ],
   "metadata": {
    "collapsed": false,
    "ExecuteTime": {
     "end_time": "2024-01-25T08:29:52.587467555Z",
     "start_time": "2024-01-25T08:29:52.350590031Z"
    }
   },
   "id": "731bc67c303f5f94",
   "execution_count": 17
  },
  {
   "cell_type": "markdown",
   "source": [
    "#### step 3: average the number of songs played across all periods"
   ],
   "metadata": {
    "collapsed": false
   },
   "id": "82264c978ed42c62"
  },
  {
   "cell_type": "code",
   "outputs": [
    {
     "data": {
      "text/plain": "[Row(avg(count(period))=6.898347107438017)]"
     },
     "execution_count": 19,
     "metadata": {},
     "output_type": "execute_result"
    }
   ],
   "source": [
    "period_count.agg({'count(period)':'avg'}).collect()"
   ],
   "metadata": {
    "collapsed": false,
    "ExecuteTime": {
     "end_time": "2024-01-25T08:33:29.214139917Z",
     "start_time": "2024-01-25T08:33:28.921816674Z"
    }
   },
   "id": "41a8d409fb678125",
   "execution_count": 19
  },
  {
   "cell_type": "code",
   "outputs": [],
   "source": [],
   "metadata": {
    "collapsed": false
   },
   "id": "8d1baed41884d873"
  }
 ],
 "metadata": {
  "kernelspec": {
   "display_name": "Python 3",
   "language": "python",
   "name": "python3"
  },
  "language_info": {
   "codemirror_mode": {
    "name": "ipython",
    "version": 2
   },
   "file_extension": ".py",
   "mimetype": "text/x-python",
   "name": "python",
   "nbconvert_exporter": "python",
   "pygments_lexer": "ipython2",
   "version": "2.7.6"
  }
 },
 "nbformat": 4,
 "nbformat_minor": 5
}
