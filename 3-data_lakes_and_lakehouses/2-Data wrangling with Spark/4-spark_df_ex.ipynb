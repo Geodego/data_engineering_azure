{
 "cells": [
  {
   "cell_type": "code",
   "execution_count": 32,
   "id": "initial_id",
   "metadata": {
    "collapsed": true,
    "ExecuteTime": {
     "end_time": "2024-01-24T12:29:18.936191544Z",
     "start_time": "2024-01-24T12:29:18.894147878Z"
    }
   },
   "outputs": [],
   "source": [
    "from pyspark.sql import SparkSession\n",
    "from pyspark.sql.functions import udf, avg\n",
    "from pyspark.sql.functions import sum as Fsum\n",
    "from pyspark.sql.types import IntegerType\n"
   ]
  },
  {
   "cell_type": "code",
   "outputs": [
    {
     "name": "stderr",
     "output_type": "stream",
     "text": [
      "24/01/24 12:49:06 WARN Utils: Your hostname, geoffroy-XPS-15-9520 resolves to a loopback address: 127.0.1.1; using 192.168.13.63 instead (on interface wlp0s20f3)\n",
      "24/01/24 12:49:06 WARN Utils: Set SPARK_LOCAL_IP if you need to bind to another address\n",
      "Setting default log level to \"WARN\".\n",
      "To adjust logging level use sc.setLogLevel(newLevel). For SparkR, use setLogLevel(newLevel).\n",
      "24/01/24 12:49:06 WARN NativeCodeLoader: Unable to load native-hadoop library for your platform... using builtin-java classes where applicable\n"
     ]
    }
   ],
   "source": [
    "spark = (SparkSession.builder\n",
    "\t\t .appName('df_ex')\n",
    "\t\t .getOrCreate())"
   ],
   "metadata": {
    "collapsed": false,
    "ExecuteTime": {
     "end_time": "2024-01-24T11:49:07.718437846Z",
     "start_time": "2024-01-24T11:49:05.279010623Z"
    }
   },
   "id": "bdf3eb702d2b50bb",
   "execution_count": 2
  },
  {
   "cell_type": "code",
   "outputs": [
    {
     "name": "stderr",
     "output_type": "stream",
     "text": [
      "                                                                                \r"
     ]
    }
   ],
   "source": [
    "file = 'data/sparkify_log_small.json'\n",
    "df = spark.read.json(file)"
   ],
   "metadata": {
    "collapsed": false,
    "ExecuteTime": {
     "end_time": "2024-01-24T11:51:43.514709063Z",
     "start_time": "2024-01-24T11:51:40.811245976Z"
    }
   },
   "id": "4553827810cf6ee4",
   "execution_count": 6
  },
  {
   "cell_type": "code",
   "outputs": [
    {
     "name": "stdout",
     "output_type": "stream",
     "text": [
      "root\n",
      " |-- artist: string (nullable = true)\n",
      " |-- auth: string (nullable = true)\n",
      " |-- firstName: string (nullable = true)\n",
      " |-- gender: string (nullable = true)\n",
      " |-- itemInSession: long (nullable = true)\n",
      " |-- lastName: string (nullable = true)\n",
      " |-- length: double (nullable = true)\n",
      " |-- level: string (nullable = true)\n",
      " |-- location: string (nullable = true)\n",
      " |-- method: string (nullable = true)\n",
      " |-- page: string (nullable = true)\n",
      " |-- registration: long (nullable = true)\n",
      " |-- sessionId: long (nullable = true)\n",
      " |-- song: string (nullable = true)\n",
      " |-- status: long (nullable = true)\n",
      " |-- ts: long (nullable = true)\n",
      " |-- userAgent: string (nullable = true)\n",
      " |-- userId: string (nullable = true)\n"
     ]
    }
   ],
   "source": [
    "df.printSchema()"
   ],
   "metadata": {
    "collapsed": false,
    "ExecuteTime": {
     "end_time": "2024-01-24T11:51:45.671869774Z",
     "start_time": "2024-01-24T11:51:45.668995807Z"
    }
   },
   "id": "d50630c06867ff06",
   "execution_count": 7
  },
  {
   "cell_type": "markdown",
   "source": [
    "# Q1\n",
    "which page did user id \"\" (empty string) NOT visit?"
   ],
   "metadata": {
    "collapsed": false
   },
   "id": "163b19a780c7c9b9"
  },
  {
   "cell_type": "code",
   "outputs": [
    {
     "name": "stdout",
     "output_type": "stream",
     "text": [
      "+-----+\n",
      "| page|\n",
      "+-----+\n",
      "| Home|\n",
      "|About|\n",
      "|Login|\n",
      "| Help|\n",
      "+-----+\n"
     ]
    }
   ],
   "source": [
    "df.filter(df.userId == '') \\\n",
    "\t.select('page') \\\n",
    "    .dropDuplicates() \\\n",
    "\t.show()"
   ],
   "metadata": {
    "collapsed": false,
    "ExecuteTime": {
     "end_time": "2024-01-24T11:54:39.155137993Z",
     "start_time": "2024-01-24T11:54:38.417274612Z"
    }
   },
   "id": "8cb7aca8dadc94d4",
   "execution_count": 9
  },
  {
   "cell_type": "markdown",
   "source": [
    "# Q2\n",
    "How many female users do we have in the data set?"
   ],
   "metadata": {
    "collapsed": false
   },
   "id": "dce5984be18a13d8"
  },
  {
   "cell_type": "markdown",
   "source": [],
   "metadata": {
    "collapsed": false
   },
   "id": "4617fcf61423b014"
  },
  {
   "cell_type": "code",
   "outputs": [
    {
     "data": {
      "text/plain": "462"
     },
     "execution_count": 36,
     "metadata": {},
     "output_type": "execute_result"
    }
   ],
   "source": [
    "df.filter(df.gender == 'F') \\\n",
    "\t.select(['userId', 'gender']) \\\n",
    "\t.dropDuplicates() \\\n",
    "\t.count()"
   ],
   "metadata": {
    "collapsed": false,
    "ExecuteTime": {
     "end_time": "2024-01-24T12:35:44.430797746Z",
     "start_time": "2024-01-24T12:35:44.303629878Z"
    }
   },
   "id": "bc4a4b39e4028f93",
   "execution_count": 36
  },
  {
   "cell_type": "markdown",
   "source": [
    "# Q3\n",
    "How many songs were played from the most played artist?"
   ],
   "metadata": {
    "collapsed": false
   },
   "id": "d1290b44023bc1a1"
  },
  {
   "cell_type": "code",
   "outputs": [
    {
     "name": "stdout",
     "output_type": "stream",
     "text": [
      "+--------------------+-----+\n",
      "|              artist|count|\n",
      "+--------------------+-----+\n",
      "|                NULL| 1653|\n",
      "|            Coldplay|   83|\n",
      "|       Kings Of Leon|   69|\n",
      "|Florence + The Ma...|   52|\n",
      "|            BjÃÂ¶rk|   46|\n",
      "+--------------------+-----+\n"
     ]
    }
   ],
   "source": [
    "df.groupBy('artist').count().orderBy('count', ascending=False).show(5)"
   ],
   "metadata": {
    "collapsed": false,
    "ExecuteTime": {
     "end_time": "2024-01-24T12:16:55.683585943Z",
     "start_time": "2024-01-24T12:16:55.511246257Z"
    }
   },
   "id": "a0568e6e8aa4fac6",
   "execution_count": 21
  },
  {
   "cell_type": "markdown",
   "source": [
    "# Q4\n",
    "How many songs do users listen to on average between visiting our home page? Please round your answer to the closest integer."
   ],
   "metadata": {
    "collapsed": false
   },
   "id": "15a954c3826b0f23"
  },
  {
   "cell_type": "code",
   "outputs": [
    {
     "data": {
      "text/plain": "[Row(avg(count)=5.487791027825099)]"
     },
     "execution_count": 35,
     "metadata": {},
     "output_type": "execute_result"
    }
   ],
   "source": [
    "df.filter(df.userId != '').groupBy(['userId', 'page']).count().agg(F.avg('count')).collect()"
   ],
   "metadata": {
    "collapsed": false,
    "ExecuteTime": {
     "end_time": "2024-01-24T12:30:20.211986721Z",
     "start_time": "2024-01-24T12:30:20.067716763Z"
    }
   },
   "id": "6e58af9971f05223",
   "execution_count": 35
  },
  {
   "cell_type": "code",
   "outputs": [],
   "source": [],
   "metadata": {
    "collapsed": false
   },
   "id": "65cdd6393853e30d"
  }
 ],
 "metadata": {
  "kernelspec": {
   "display_name": "Python 3",
   "language": "python",
   "name": "python3"
  },
  "language_info": {
   "codemirror_mode": {
    "name": "ipython",
    "version": 2
   },
   "file_extension": ".py",
   "mimetype": "text/x-python",
   "name": "python",
   "nbconvert_exporter": "python",
   "pygments_lexer": "ipython2",
   "version": "2.7.6"
  }
 },
 "nbformat": 4,
 "nbformat_minor": 5
}
