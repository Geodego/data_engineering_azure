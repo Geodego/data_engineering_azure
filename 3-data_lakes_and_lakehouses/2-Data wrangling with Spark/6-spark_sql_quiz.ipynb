{
 "cells": [
  {
   "cell_type": "markdown",
   "metadata": {},
   "source": [
    "# Data Wrangling with Spark SQL Quiz\n",
    "\n",
    "This quiz uses the same dataset and most of the same questions from the earlier \"Quiz - Data Wrangling with Data Frames Jupyter Notebook.\" For this quiz, however, use Spark SQL instead of Spark Data Frames."
   ]
  },
  {
   "cell_type": "code",
   "execution_count": 1,
   "metadata": {
    "ExecuteTime": {
     "end_time": "2024-01-26T11:49:32.306598695Z",
     "start_time": "2024-01-26T11:49:25.947389686Z"
    }
   },
   "outputs": [
    {
     "name": "stderr",
     "output_type": "stream",
     "text": [
      "24/01/26 12:49:27 WARN Utils: Your hostname, geoffroy-XPS-15-9520 resolves to a loopback address: 127.0.1.1; using 192.168.13.105 instead (on interface wlp0s20f3)\n",
      "24/01/26 12:49:27 WARN Utils: Set SPARK_LOCAL_IP if you need to bind to another address\n",
      "Setting default log level to \"WARN\".\n",
      "To adjust logging level use sc.setLogLevel(newLevel). For SparkR, use setLogLevel(newLevel).\n",
      "24/01/26 12:49:27 WARN NativeCodeLoader: Unable to load native-hadoop library for your platform... using builtin-java classes where applicable\n",
      "                                                                                \r"
     ]
    }
   ],
   "source": [
    "from pyspark.sql import SparkSession\n",
    "\n",
    "# instantiate a Spark session \n",
    "ss = SparkSession \\\n",
    "\t.builder \\\n",
    "\t.appName(\"SparkSQL\") \\\n",
    "\t.getOrCreate()\n",
    "\n",
    "path = \"data/sparkify_log_small.json\"\n",
    "user_log = ss.read.json(path)\n",
    "\n",
    "# create a view to use with the SQL queries\n",
    "user_log.createOrReplaceTempView(\"user_log_table\")\n"
   ]
  },
  {
   "cell_type": "markdown",
   "metadata": {},
   "source": [
    "# Question 1\n",
    "\n",
    "Which page did user id \"\"(empty string) NOT visit?"
   ]
  },
  {
   "cell_type": "code",
   "execution_count": 2,
   "metadata": {
    "ExecuteTime": {
     "end_time": "2024-01-26T11:49:37.823330265Z",
     "start_time": "2024-01-26T11:49:34.777249810Z"
    }
   },
   "outputs": [
    {
     "name": "stderr",
     "output_type": "stream",
     "text": [
      "                                                                                \r"
     ]
    },
    {
     "name": "stdout",
     "output_type": "stream",
     "text": [
      "+----------------+\n",
      "|            page|\n",
      "+----------------+\n",
      "|Submit Downgrade|\n",
      "|       Downgrade|\n",
      "|          Logout|\n",
      "|   Save Settings|\n",
      "|        Settings|\n",
      "|        NextSong|\n",
      "|         Upgrade|\n",
      "|           Error|\n",
      "|  Submit Upgrade|\n",
      "+----------------+\n"
     ]
    }
   ],
   "source": [
    "ss.sql('''\n",
    "\tSELECT all_pages.page\n",
    "\tFROM (\n",
    "\t\tSELECT DISTINCT page\n",
    "\t\tFROM user_log_table\n",
    "\t) AS all_pages\n",
    "\tLEFT ANTI JOIN (\n",
    "\t\tSELECT DISTINCT page\n",
    "\t\tFROM user_log_table\n",
    "\t\tWHERE userId = \"\"\n",
    "\t) AS blank_pages\n",
    "\tON all_pages.page = blank_pages.page;\t\n",
    "''').show()"
   ]
  },
  {
   "cell_type": "markdown",
   "metadata": {},
   "source": [
    "# Question 2 - Reflect\n",
    "\n",
    "Why might you prefer to use SQL over data frames? Why might you prefer data frames over SQL?"
   ]
  },
  {
   "cell_type": "markdown",
   "metadata": {},
   "source": [
    "# Question 3\n",
    "\n",
    "How many female users do we have in the data set?"
   ]
  },
  {
   "cell_type": "code",
   "execution_count": 4,
   "metadata": {
    "ExecuteTime": {
     "end_time": "2024-01-26T11:52:50.651197678Z",
     "start_time": "2024-01-26T11:52:50.183811635Z"
    }
   },
   "outputs": [
    {
     "name": "stdout",
     "output_type": "stream",
     "text": [
      "+----------------------+\n",
      "|count(DISTINCT userId)|\n",
      "+----------------------+\n",
      "|                   462|\n",
      "+----------------------+\n"
     ]
    }
   ],
   "source": [
    "ss.sql('''\n",
    "\tSELECT COUNT(DISTINCT userId)\n",
    "\tFROM user_log_table\n",
    "\tWHERE gender = 'F'\n",
    "'''\n",
    ").show()"
   ]
  },
  {
   "cell_type": "markdown",
   "metadata": {},
   "source": [
    "# Question 4\n",
    "\n",
    "How many songs were played from the most played artist?"
   ]
  },
  {
   "cell_type": "code",
   "execution_count": 5,
   "metadata": {
    "ExecuteTime": {
     "end_time": "2024-01-26T11:54:54.287243814Z",
     "start_time": "2024-01-26T11:54:53.770055702Z"
    }
   },
   "outputs": [
    {
     "name": "stdout",
     "output_type": "stream",
     "text": [
      "+--------+-----+\n",
      "|  artist|plays|\n",
      "+--------+-----+\n",
      "|Coldplay|   83|\n",
      "+--------+-----+\n"
     ]
    }
   ],
   "source": [
    "ss.sql('''\n",
    "\tSELECT artist, COUNT(artist) AS plays\n",
    "\tFROM user_log_table\n",
    "\tWHERE page = 'NextSong'\n",
    "\tGROUP BY artist\n",
    "\tORDER BY plays DESC\n",
    "\tLIMIT 1\n",
    "'''\n",
    ").show()"
   ]
  },
  {
   "cell_type": "markdown",
   "metadata": {},
   "source": [
    "# Question 5 (challenge)\n",
    "\n",
    "How many songs do users listen to on average between visiting our home page? Please round your answer to the closest integer."
   ]
  },
  {
   "cell_type": "code",
   "execution_count": 13,
   "metadata": {
    "ExecuteTime": {
     "end_time": "2024-01-26T12:19:47.515381042Z",
     "start_time": "2024-01-26T12:19:47.050388259Z"
    }
   },
   "outputs": [
    {
     "name": "stdout",
     "output_type": "stream",
     "text": [
      "+------------------+\n",
      "|avg(count_results)|\n",
      "+------------------+\n",
      "| 6.898347107438017|\n",
      "+------------------+\n"
     ]
    }
   ],
   "source": [
    "# SELECT CASE WHEN 1 > 0 THEN 1 WHEN 2 > 0 THEN 2.0 ELSE 1.2 END;\n",
    "is_home = ss.sql(\"\"\"\n",
    "\tSELECT userID, page, ts, CASE WHEN page = 'Home' THEN 1 ELSE 0 END AS is_home \n",
    "\tFROM user_log_table \n",
    "\tWHERE (page = 'NextSong') or (page = 'Home') \\\n",
    "\"\"\")\n",
    "\n",
    "# keep the results in a new view\n",
    "is_home.createOrReplaceTempView(\"is_home_table\")\n",
    "\n",
    "# find the cumulative sum over the is_home column\n",
    "cumulative_sum = ss.sql(\"\"\"\n",
    "\tSELECT *, SUM(is_home) OVER \n",
    "    (PARTITION BY userID ORDER BY ts DESC ROWS BETWEEN UNBOUNDED PRECEDING AND CURRENT ROW) AS period \n",
    "    FROM is_home_table\n",
    "    \"\"\")\n",
    "\n",
    "# keep the results in a view\n",
    "cumulative_sum.createOrReplaceTempView(\"period_table\")\n",
    "\n",
    "# find the average count for NextSong\n",
    "ss.sql(\"\"\"\n",
    "\tSELECT AVG(count_results) \n",
    "\tFROM \n",
    "\t\t(SELECT COUNT(*) AS count_results \n",
    "\t\tFROM period_table \n",
    "\t\tGROUP BY userID, period, page HAVING page = 'NextSong') AS counts\"\"\").show()"
   ]
  },
  {
   "cell_type": "markdown",
   "source": [
    "### Lets analyse step by step the process used in the solution above\n",
    "\n",
    "#### Step 1: is_home\n",
    "Add a column `is_home` to the `user_log_table` table that has a value of `1` when the `page` is `Home` and `0` otherwise"
   ],
   "metadata": {
    "collapsed": false
   }
  },
  {
   "cell_type": "code",
   "outputs": [
    {
     "name": "stdout",
     "output_type": "stream",
     "text": [
      "+------+--------+-------------+-------+\n",
      "|userID|    page|           ts|is_home|\n",
      "+------+--------+-------------+-------+\n",
      "|   100|NextSong|1513750214284|      0|\n",
      "|   100|NextSong|1513750442284|      0|\n",
      "|   100|    Home|1513775431284|      1|\n",
      "|   100|NextSong|1513775556284|      0|\n",
      "|   100|NextSong|1513775710284|      0|\n",
      "|   100|    Home|1513776194284|      1|\n",
      "|   100|NextSong|1513776308284|      0|\n",
      "|   100|    Home|1513839673284|      1|\n",
      "+------+--------+-------------+-------+\n"
     ]
    }
   ],
   "source": [
    "ss.sql(\"\"\"SELECT *\n",
    "\t   FROM is_home_table \\\n",
    "            WHERE userID = 100 \\\n",
    "            \"\"\").show()"
   ],
   "metadata": {
    "collapsed": false,
    "ExecuteTime": {
     "end_time": "2024-01-26T12:23:44.104895043Z",
     "start_time": "2024-01-26T12:23:43.981873055Z"
    }
   },
   "execution_count": 16
  },
  {
   "cell_type": "markdown",
   "source": [
    "#### Step 2: cumulative_sum\n",
    "A column, period, is created to cumulatively sum the homevisit flags within each user's partition, effectively segmenting the data into periods based on home page visits. Each period represents the time from one home page visit to the next for a given user."
   ],
   "metadata": {
    "collapsed": false
   }
  },
  {
   "cell_type": "code",
   "outputs": [
    {
     "name": "stdout",
     "output_type": "stream",
     "text": [
      "+------+--------+-------------+-------+------+\n",
      "|userID|    page|           ts|is_home|period|\n",
      "+------+--------+-------------+-------+------+\n",
      "|   100|    Home|1513839673284|      1|     1|\n",
      "|   100|NextSong|1513776308284|      0|     1|\n",
      "|   100|    Home|1513776194284|      1|     2|\n",
      "|   100|NextSong|1513775710284|      0|     2|\n",
      "|   100|NextSong|1513775556284|      0|     2|\n",
      "|   100|    Home|1513775431284|      1|     3|\n",
      "|   100|NextSong|1513750442284|      0|     3|\n",
      "|   100|NextSong|1513750214284|      0|     3|\n",
      "+------+--------+-------------+-------+------+\n"
     ]
    }
   ],
   "source": [
    "ss.sql('''\n",
    "\tSELECT *\n",
    "\tFROM period_table\n",
    "\tWHERE userID = 100\n",
    "''').show()"
   ],
   "metadata": {
    "collapsed": false,
    "ExecuteTime": {
     "end_time": "2024-01-26T12:27:55.517522202Z",
     "start_time": "2024-01-26T12:27:55.402402446Z"
    }
   },
   "execution_count": 18
  },
  {
   "cell_type": "code",
   "outputs": [],
   "source": [],
   "metadata": {
    "collapsed": false
   }
  }
 ],
 "metadata": {
  "kernelspec": {
   "display_name": "Python 3",
   "language": "python",
   "name": "python3"
  },
  "language_info": {
   "codemirror_mode": {
    "name": "ipython",
    "version": 3
   },
   "file_extension": ".py",
   "mimetype": "text/x-python",
   "name": "python",
   "nbconvert_exporter": "python",
   "pygments_lexer": "ipython3",
   "version": "3.6.3"
  }
 },
 "nbformat": 4,
 "nbformat_minor": 2
}
