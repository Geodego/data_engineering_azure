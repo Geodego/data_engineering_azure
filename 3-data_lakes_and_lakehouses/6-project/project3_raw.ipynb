{
 "cells": [
  {
   "cell_type": "code",
   "execution_count": null,
   "id": "initial_id",
   "metadata": {
    "collapsed": true
   },
   "outputs": [],
   "source": [
    "# Extract step\n",
    "# Copy raw data in DBFS and ingest these data into the delta file system.\n",
    "\n",
    "# the csv files don't have column names, so we need to specify them according to the schema provided in the project description.\n",
    "trip_columns= [\"trip_id\", \"rideable_type\", \"start_at\", \"ended_at\", \"start_station_id\", \"end_station_id\", \"rider_id\"]\n",
    "station_columns = [\"station_id\", \"name\", \"latitude\", \"longitude\"]\n",
    "rider_columns = [\"rider_id\", \"first\", \"last\", \"address\", \"birthday\", \"account_start_date\", \"account_end_date\", \"is_member\"]\n",
    "payment_columns = [\"payment_id\", \"date\", \"amount\", \"rider_id\"]\n",
    "csv_files = [\"trips\", \"stations\", \"riders\", \"payments\"]\n",
    "columns = [trip_columns, station_columns, rider_columns, payment_columns]\n",
    "for item, item_columns in zip(csv_files, columns):\n",
    "    df = spark.read.format(\"csv\") \\\n",
    "        .option(\"inferSchema\", \"true\") \\\n",
    "        .option(\"header\", \"false\") \\\n",
    "        .option(\"sep\", \",\") \\\n",
    "        .load(f\"/FileStore/tables/{item}.csv\")\n",
    "    df = df.toDF(*item_columns)\n",
    "\n",
    "    df.write.format(\"delta\") \\\n",
    "        .save(f\"/delta/bronze/{item}\")"
   ]
  },
  {
   "cell_type": "code",
   "outputs": [],
   "source": [
    "# Load  and transform step\n",
    "# Save tables in the star schema as tables in a gold folder in the delta file system.\n",
    "from pyspark.sql.functions import datediff, floor, col, date_format, date_add, lit, unix_timestamp\n",
    "df_trips = spark.read.format(\"delta\") \\\n",
    "    .load(\"/delta/bronze/trips\")\n",
    "df_stations = spark.read.format(\"delta\") \\\n",
    "    .load(\"/delta/bronze/stations\")\n",
    "df_rider = spark.read.format(\"delta\") \\\n",
    "    .load(\"/delta/bronze/riders\")\n",
    "df_payments = spark.read.format(\"delta\") \\\n",
    "    .load(\"/delta/bronze/payments\")\n"
   ],
   "metadata": {
    "collapsed": false
   },
   "id": "41a2906ce92704f2"
  },
  {
   "cell_type": "code",
   "outputs": [],
   "source": [
    "# Dim station\n",
    "df_stations.write.format(\"delta\") \\\n",
    "    .mode(\"overwrite\") \\\n",
    "    .saveAsTable(\"gold_dim_station\")"
   ],
   "metadata": {
    "collapsed": false
   },
   "id": "16a865e090b15e7b"
  },
  {
   "cell_type": "code",
   "outputs": [],
   "source": [
    "# Dim rider\n",
    "dim_rider = df_rider \\\n",
    "    .withColumn(\"age_at_account_start\", floor(datediff(\"account_start_date\", \"birthday\") / 365)) \\\n",
    "    .select(\"rider_id\", \"address\", \"first\", \"last\", \"birthday\", \"is_member\", \"age_at_account_start\")\n",
    "\n",
    "dim_rider.write.format(\"delta\") \\\n",
    "    .mode(\"overwrite\") \\\n",
    "    .saveAsTable(\"gold_dim_rider\")\n",
    "\n"
   ],
   "metadata": {
    "collapsed": false
   },
   "id": "df921d887778f944"
  },
  {
   "cell_type": "code",
   "outputs": [],
   "source": [
    "# Dim date\n",
    "\n",
    "# Create a range of dates from 2012-01-01 to 2023-12-31\n",
    "date_range_df = spark.range(0, (365 * 12) + 3).selectExpr(\"CAST(id AS INT) AS id\") \n",
    "date_range_df = date_range_df \\\n",
    "    .withColumn(\"start_date\", lit(\"2012-01-01\")) \\\n",
    "    .withColumn(\"date\", date_add(\"start_date\", col(\"id\"))) \\\n",
    "    .select(\"date\")\n",
    "\n",
    "# Add additional columns\n",
    "dim_date = date_range_df \\\n",
    "    .withColumn(\"date_key\", date_format(\"date\", \"yyyyMMdd\").cast(\"int\")) \\\n",
    "    .withColumn(\"week_day\", date_format(\"date\", \"E\")) \\\n",
    "    .withColumn(\"month\", date_format(\"date\", \"M\").cast(\"int\")) \\\n",
    "    .withColumn(\"quarter\", date_format(\"date\", \"q\").cast(\"int\")) \\\n",
    "    .drop(\"date\")\n",
    "\n",
    "dim_date.write.format(\"delta\") \\\n",
    "    .mode(\"overwrite\") \\\n",
    "    .saveAsTable(\"gold_dim_date\")\n",
    "\n"
   ],
   "metadata": {
    "collapsed": false
   },
   "id": "99cdacd88d00c84c"
  },
  {
   "cell_type": "code",
   "outputs": [],
   "source": [
    "# fact payments\n",
    "fact_payments = df_payments \\\n",
    "    .withColumn(\"date_key\", date_format(\"date\", \"yyyyMMdd\").cast(\"int\")) \\\n",
    "    .withColumnRenamed('date', 'payment_date') \\\n",
    "    .withColumnRenamed('amount', 'payment_amount') \\\n",
    "    .select(\"rider_id\", \"payment_date\", \"date_key\", \"payment_amount\")\n",
    "\n",
    "fact_payments.write.format(\"delta\") \\\n",
    "    .mode(\"overwrite\") \\\n",
    "    .saveAsTable(\"gold_fact_payments\")"
   ],
   "metadata": {
    "collapsed": false
   },
   "id": "b83d6296c6e619f5"
  },
  {
   "cell_type": "code",
   "outputs": [],
   "source": [
    "# fact trip\n",
    "# join df_trips with df_rider\n",
    "fact_trip = df_trips \\\n",
    "    .join(df_rider, \"rider_id\", \"inner\")\n",
    "fact_trip = fact_trip \\\n",
    "    .withColumn(\"date_key\", date_format(\"start_at\", \"yyyyMMdd\").cast(\"int\")) \\\n",
    "    .withColumn(\"start_timestamp\", unix_timestamp(\"start_at\")) \\\n",
    "    .withColumn(\"end_timestamp\", unix_timestamp(\"ended_at\")) \\\n",
    "    .withColumn('duration_in_minutes', ((col('end_timestamp') - col('start_timestamp')) / 60).cast(\"int\")) \\\n",
    "    .withColumn(\"starting_hour\", date_format(\"start_at\", \"H\").cast(\"int\")) \\\n",
    "    .withColumn('rider_age', floor(datediff(\"start_at\", \"birthday\") / 365)) \\\n",
    "    .withColumnRenamed('start_at', 'started_at') \\\n",
    "    .select(\"trip_id\",\"start_station_id\", \"end_station_id\", \"rider_id\",\n",
    "            \"duration_in_minutes\", \"rider_age\", \"started_at\", \"ended_at\", \"date_key\", \"starting_hour\")\n",
    "\n",
    "fact_trip.write.format(\"delta\") \\\n",
    "    .mode(\"overwrite\") \\\n",
    "    .saveAsTable(\"gold_fact_trip\")"
   ],
   "metadata": {
    "collapsed": false
   },
   "id": "3cae7304a75a5ddf"
  }
 ],
 "metadata": {
  "kernelspec": {
   "display_name": "Python 3",
   "language": "python",
   "name": "python3"
  },
  "language_info": {
   "codemirror_mode": {
    "name": "ipython",
    "version": 2
   },
   "file_extension": ".py",
   "mimetype": "text/x-python",
   "name": "python",
   "nbconvert_exporter": "python",
   "pygments_lexer": "ipython2",
   "version": "2.7.6"
  }
 },
 "nbformat": 4,
 "nbformat_minor": 5
}
