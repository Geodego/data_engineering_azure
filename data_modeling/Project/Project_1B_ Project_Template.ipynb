{
 "cells": [
  {
   "cell_type": "markdown",
   "metadata": {},
   "source": [
    "# Part I. ETL Pipeline for Pre-Processing the Files"
   ]
  },
  {
   "cell_type": "markdown",
   "metadata": {},
   "source": [
    "## THE FOLLOWING CODE SHOULD BE RUN FOR PRE-PROCESSING THE FILES"
   ]
  },
  {
   "cell_type": "markdown",
   "metadata": {},
   "source": [
    "#### Import Python packages "
   ]
  },
  {
   "cell_type": "code",
   "execution_count": 1,
   "metadata": {
    "ExecuteTime": {
     "end_time": "2023-12-29T06:57:12.896893Z",
     "start_time": "2023-12-29T06:57:12.037459Z"
    }
   },
   "outputs": [],
   "source": [
    "# Import Python packages \n",
    "import pandas as pd\n",
    "import cassandra\n",
    "import re\n",
    "import os\n",
    "import glob\n",
    "import numpy as np\n",
    "import json\n",
    "import csv"
   ]
  },
  {
   "cell_type": "markdown",
   "metadata": {},
   "source": [
    "#### Creating list of filepaths to process original event csv data files"
   ]
  },
  {
   "cell_type": "code",
   "execution_count": 7,
   "metadata": {
    "ExecuteTime": {
     "end_time": "2023-12-29T07:27:17.866693Z",
     "start_time": "2023-12-29T07:27:17.852433Z"
    }
   },
   "outputs": [
    {
     "name": "stdout",
     "output_type": "stream",
     "text": [
      "/Users/gdegournay/Documents/PycharmProjects/data_engineering_azure/data_modeling/Project\n",
      "['/Users/gdegournay/Documents/PycharmProjects/data_engineering_azure/data_modeling/Project/event_data/2018-11-15-events.csv', '/Users/gdegournay/Documents/PycharmProjects/data_engineering_azure/data_modeling/Project/event_data/2018-11-22-events.csv', '/Users/gdegournay/Documents/PycharmProjects/data_engineering_azure/data_modeling/Project/event_data/2018-11-09-events.csv', '/Users/gdegournay/Documents/PycharmProjects/data_engineering_azure/data_modeling/Project/event_data/2018-11-18-events.csv', '/Users/gdegournay/Documents/PycharmProjects/data_engineering_azure/data_modeling/Project/event_data/2018-11-04-events.csv', '/Users/gdegournay/Documents/PycharmProjects/data_engineering_azure/data_modeling/Project/event_data/2018-11-01-events.csv', '/Users/gdegournay/Documents/PycharmProjects/data_engineering_azure/data_modeling/Project/event_data/2018-11-27-events.csv', '/Users/gdegournay/Documents/PycharmProjects/data_engineering_azure/data_modeling/Project/event_data/2018-11-10-events.csv', '/Users/gdegournay/Documents/PycharmProjects/data_engineering_azure/data_modeling/Project/event_data/2018-11-20-events.csv', '/Users/gdegournay/Documents/PycharmProjects/data_engineering_azure/data_modeling/Project/event_data/2018-11-17-events.csv', '/Users/gdegournay/Documents/PycharmProjects/data_engineering_azure/data_modeling/Project/event_data/2018-11-06-events.csv', '/Users/gdegournay/Documents/PycharmProjects/data_engineering_azure/data_modeling/Project/event_data/2018-11-03-events.csv', '/Users/gdegournay/Documents/PycharmProjects/data_engineering_azure/data_modeling/Project/event_data/2018-11-28-events.csv', '/Users/gdegournay/Documents/PycharmProjects/data_engineering_azure/data_modeling/Project/event_data/2018-11-12-events.csv', '/Users/gdegournay/Documents/PycharmProjects/data_engineering_azure/data_modeling/Project/event_data/2018-11-25-events.csv', '/Users/gdegournay/Documents/PycharmProjects/data_engineering_azure/data_modeling/Project/event_data/2018-11-26-events.csv', '/Users/gdegournay/Documents/PycharmProjects/data_engineering_azure/data_modeling/Project/event_data/2018-11-11-events.csv', '/Users/gdegournay/Documents/PycharmProjects/data_engineering_azure/data_modeling/Project/event_data/2018-11-14-events.csv', '/Users/gdegournay/Documents/PycharmProjects/data_engineering_azure/data_modeling/Project/event_data/2018-11-23-events.csv', '/Users/gdegournay/Documents/PycharmProjects/data_engineering_azure/data_modeling/Project/event_data/2018-11-08-events.csv', '/Users/gdegournay/Documents/PycharmProjects/data_engineering_azure/data_modeling/Project/event_data/2018-11-19-events.csv', '/Users/gdegournay/Documents/PycharmProjects/data_engineering_azure/data_modeling/Project/event_data/2018-11-05-events.csv', '/Users/gdegournay/Documents/PycharmProjects/data_engineering_azure/data_modeling/Project/event_data/2018-11-02-events.csv', '/Users/gdegournay/Documents/PycharmProjects/data_engineering_azure/data_modeling/Project/event_data/2018-11-29-events.csv', '/Users/gdegournay/Documents/PycharmProjects/data_engineering_azure/data_modeling/Project/event_data/2018-11-13-events.csv', '/Users/gdegournay/Documents/PycharmProjects/data_engineering_azure/data_modeling/Project/event_data/2018-11-24-events.csv', '/Users/gdegournay/Documents/PycharmProjects/data_engineering_azure/data_modeling/Project/event_data/2018-11-21-events.csv', '/Users/gdegournay/Documents/PycharmProjects/data_engineering_azure/data_modeling/Project/event_data/2018-11-16-events.csv', '/Users/gdegournay/Documents/PycharmProjects/data_engineering_azure/data_modeling/Project/event_data/2018-11-07-events.csv', '/Users/gdegournay/Documents/PycharmProjects/data_engineering_azure/data_modeling/Project/event_data/2018-11-30-events.csv']\n"
     ]
    }
   ],
   "source": [
    "# checking your current working directory\n",
    "print(os.getcwd())\n",
    "\n",
    "# Get your current folder and subfolder event data\n",
    "filepath = os.getcwd() + '/event_data'\n",
    "\n",
    "# Create a for loop to create a list of files and collect each filepath\n",
    "for root, dirs, files in os.walk(filepath):\n",
    "# join the file path and roots with the subdirectories using glob\n",
    "    file_path_list = glob.glob(os.path.join(root,'*'))\n",
    "    # print(file_path_list)"
   ]
  },
  {
   "cell_type": "markdown",
   "metadata": {},
   "source": [
    "#### Processing the files to create the data file csv that will be used for Apache Casssandra tables"
   ]
  },
  {
   "cell_type": "code",
   "execution_count": 8,
   "metadata": {
    "ExecuteTime": {
     "end_time": "2023-12-29T07:27:26.473600Z",
     "start_time": "2023-12-29T07:27:26.406867Z"
    }
   },
   "outputs": [],
   "source": [
    "# initiating an empty list of rows that will be generated from each file\n",
    "full_data_rows_list = [] \n",
    "    \n",
    "# for every filepath in the file path list \n",
    "for f in file_path_list:\n",
    "\n",
    "# reading csv file \n",
    "    with open(f, 'r', encoding = 'utf8', newline='') as csvfile: \n",
    "        # creating a csv reader object \n",
    "        csvreader = csv.reader(csvfile) \n",
    "        next(csvreader)\n",
    "        \n",
    " # extracting each data row one by one and append it        \n",
    "        for line in csvreader:\n",
    "            #print(line)\n",
    "            full_data_rows_list.append(line) \n",
    "            \n",
    "# uncomment the code below if you would like to get total number of rows \n",
    "#print(len(full_data_rows_list))\n",
    "# uncomment the code below if you would like to check to see what the list of event data rows will look like\n",
    "#print(full_data_rows_list)\n",
    "\n",
    "# creating a smaller event data csv file called event_datafile_full csv that will be used to insert data into the \\\n",
    "# Apache Cassandra tables\n",
    "csv.register_dialect('myDialect', quoting=csv.QUOTE_ALL, skipinitialspace=True)\n",
    "\n",
    "with open('event_datafile_new.csv', 'w', encoding = 'utf8', newline='') as f:\n",
    "    writer = csv.writer(f, dialect='myDialect')\n",
    "    writer.writerow(['artist','firstName','gender','itemInSession','lastName','length',\\\n",
    "                'level','location','sessionId','song','userId'])\n",
    "    for row in full_data_rows_list:\n",
    "        if (row[0] == ''):\n",
    "            continue\n",
    "        writer.writerow((row[0], row[2], row[3], row[4], row[5], row[6], row[7], row[8], row[12], row[13], row[16]))\n"
   ]
  },
  {
   "cell_type": "code",
   "execution_count": 9,
   "metadata": {
    "ExecuteTime": {
     "end_time": "2023-12-29T07:28:13.415980Z",
     "start_time": "2023-12-29T07:28:13.379327Z"
    }
   },
   "outputs": [
    {
     "name": "stdout",
     "output_type": "stream",
     "text": [
      "6821\n"
     ]
    }
   ],
   "source": [
    "# check the number of rows in your csv file\n",
    "with open('event_datafile_new.csv', 'r', encoding = 'utf8') as f:\n",
    "    print(sum(1 for line in f))"
   ]
  },
  {
   "cell_type": "markdown",
   "metadata": {},
   "source": [
    "# Part II. Apache Cassandra tables set up. \n",
    "\n",
    "## The data used for setting up the Cassandra's table are in event_datafile_new.csv which contains the following columns: \n",
    "- artist \n",
    "- firstName of user\n",
    "- gender of user\n",
    "- item number in session\n",
    "- last name of user\n",
    "- length of the song\n",
    "- level (paid or free song)\n",
    "- location of the user\n",
    "- sessionId\n",
    "- song title\n",
    "- userId\n",
    "\n",
    "The image below is a screenshot of what the denormalized data appear like in the <font color=red>**event_datafile_new.csv**</font> after the code above is run:<br>\n",
    "\n",
    "<img src=\"images/image_event_datafile_new.jpg\">"
   ]
  },
  {
   "cell_type": "markdown",
   "metadata": {},
   "source": [
    "#### Creating a Cluster"
   ]
  },
  {
   "cell_type": "code",
   "execution_count": 10,
   "metadata": {
    "ExecuteTime": {
     "end_time": "2023-12-29T07:29:09.722335Z",
     "start_time": "2023-12-29T07:29:09.553786Z"
    }
   },
   "outputs": [],
   "source": [
    "# This should make a connection to a Cassandra instance your local machine \n",
    "# (127.0.0.1)\n",
    "\n",
    "from cassandra.cluster import Cluster\n",
    "cluster = Cluster()\n",
    "\n",
    "# To establish connection and begin executing queries, need a session\n",
    "session = cluster.connect()"
   ]
  },
  {
   "cell_type": "markdown",
   "metadata": {},
   "source": [
    "#### Create Keyspace"
   ]
  },
  {
   "cell_type": "code",
   "execution_count": 11,
   "metadata": {
    "ExecuteTime": {
     "end_time": "2023-12-29T07:32:31.936994Z",
     "start_time": "2023-12-29T07:32:31.705634Z"
    }
   },
   "outputs": [
    {
     "name": "stdout",
     "output_type": "stream",
     "text": [
      "Keyspace 'udacity_1' created successfully\n"
     ]
    }
   ],
   "source": [
    "# Create the Keyspace\n",
    "try:\n",
    "    session.execute(\"\"\"\n",
    "    CREATE KEYSPACE IF NOT EXISTS udacity_1\n",
    "    WITH REPLICATION = \n",
    "    { 'class' : 'SimpleStrategy', 'replication_factor' : 1 }\n",
    "    \"\"\")\n",
    "    print(\"Keyspace 'udacity_1' created successfully\")\n",
    "except Exception as e:\n",
    "    print(\"Error creating keyspace 'udacity_1':\", e)\n"
   ]
  },
  {
   "cell_type": "markdown",
   "metadata": {},
   "source": [
    "#### Set Keyspace"
   ]
  },
  {
   "cell_type": "code",
   "execution_count": 12,
   "metadata": {
    "ExecuteTime": {
     "end_time": "2023-12-29T07:32:58.921782Z",
     "start_time": "2023-12-29T07:32:58.904560Z"
    }
   },
   "outputs": [],
   "source": [
    "try:\n",
    "    session.set_keyspace('udacity_1')\n",
    "except Exception as e:\n",
    "    print(e)\n"
   ]
  },
  {
   "cell_type": "markdown",
   "metadata": {},
   "source": [
    "### We need to create tables to run three different types of queries. An example of each type of query is given below."
   ]
  },
  {
   "cell_type": "markdown",
   "metadata": {},
   "source": [
    "### 1. Give me the artist, song title and song's length in the music app history that was heard during  sessionId = 338, and itemInSession  = 4\n",
    "\n",
    "\n",
    "### 2. Give me only the following: name of artist, song (sorted by itemInSession) and user (first and last name) for userid = 10, sessionid = 182\n",
    "    \n",
    "\n",
    "### 3. Give me every user name (first and last) in my music app history who listened to the song 'All Hands Against His Own'\n",
    "\n",
    "\n"
   ]
  },
  {
   "cell_type": "code",
   "execution_count": 14,
   "metadata": {
    "ExecuteTime": {
     "end_time": "2023-12-29T07:42:36.852086Z",
     "start_time": "2023-12-29T07:42:36.259416Z"
    }
   },
   "outputs": [
    {
     "name": "stdout",
     "output_type": "stream",
     "text": [
      "Table 'song_info_by_session' created successfully\n"
     ]
    }
   ],
   "source": [
    "# The table structure enables the extraction of the artist's name, the song title, and the song's length. It is tailored to address queries focused on individual listening experiences within # specific item within a session. The table's design facilitates the efficient retrieval of these details, offering a snapshot of the user's listening # choice at that exact moment in their listening history.\n",
    "query_1 = \"\"\"\n",
    "CREATE TABLE IF NOT EXISTS song_info_by_session (\n",
    "    session_id int,\n",
    "    item_in_session int,\n",
    "    artist text,\n",
    "    song text,\n",
    "    song_length float,\n",
    "    PRIMARY KEY (session_id, item_in_session)\n",
    ")\n",
    "\"\"\"\n",
    "try:\n",
    "    session.execute(query_1)\n",
    "    print(\"Table 'song_info_by_session' created successfully\")\n",
    "except Exception as e:\n",
    "    print(e)\n",
    "\n",
    "\n",
    "\n",
    "                    "
   ]
  },
  {
   "cell_type": "code",
   "execution_count": 17,
   "metadata": {
    "scrolled": false,
    "ExecuteTime": {
     "end_time": "2023-12-29T07:49:52.253674Z",
     "start_time": "2023-12-29T07:49:48.064493Z"
    }
   },
   "outputs": [],
   "source": [
    "# We fill the table song_info_by_session with the data from the csv file event_datafile_new.csv\n",
    "file = 'event_datafile_new.csv'\n",
    "\n",
    "with open(file, encoding = 'utf8') as f:\n",
    "    csvreader = csv.reader(f)\n",
    "    next(csvreader) # skip header\n",
    "## TO-DO: Assign the INSERT statements into the `query` variable\n",
    "    query = \"INSERT INTO song_info_by_session (session_id, item_in_session, artist, song, song_length) \"\n",
    "    query = query + \" VALUES (%s, %s, %s, %s, %s)\"    \n",
    "    for n_row, line in enumerate(csvreader, start=1):\n",
    "        ## TO-DO: Assign which column element should be assigned for each column in the INSERT statement.\n",
    "        ## For e.g., to INSERT artist_name and user first_name, you would change the code below to `line[0], line[1]`\n",
    "        session.execute(query, (int(line[8]), int(line[3]), line[0], line[9], float(line[5])))\n",
    "        \n",
    "print(f\"{n_row} rows inserted into table 'song_info_by_session'\")"
   ]
  },
  {
   "cell_type": "code",
   "execution_count": 19,
   "metadata": {
    "scrolled": true,
    "ExecuteTime": {
     "end_time": "2023-12-29T07:52:41.076969Z",
     "start_time": "2023-12-29T07:52:41.057111Z"
    }
   },
   "outputs": [
    {
     "name": "stdout",
     "output_type": "stream",
     "text": [
      "Artist: Faithless, Song: Music Matters (Mark Knight Dub), Song Length: 495.30731201171875\n"
     ]
    }
   ],
   "source": [
    "# SELECT statement to verify the data was entered into the table\n",
    "query = \"SELECT artist, song, song_length FROM song_info_by_session WHERE session_id = 338 AND item_in_session = 4\"\n",
    "try:\n",
    "    rows = session.execute(query)\n",
    "    # Printing the results in a readable format\n",
    "    for row in rows:\n",
    "        print(f\"Artist: {row.artist}, Song: {row.song}, Song Length: {row.song_length}\")\n",
    "except Exception as e:\n",
    "    print(e)"
   ]
  },
  {
   "cell_type": "code",
   "execution_count": 21,
   "metadata": {
    "ExecuteTime": {
     "end_time": "2023-12-29T08:12:27.741800Z",
     "start_time": "2023-12-29T08:12:27.733455Z"
    }
   },
   "outputs": [
    {
     "name": "stdout",
     "output_type": "stream",
     "text": [
      "Table 'song_info_by_user_session' created successfully\n"
     ]
    }
   ],
   "source": [
    "# The table song_info_user_session is designed to efficiently handle queries like Query 2, which focuses on extracting artist names, song titles (ordered by itemInSession), and user names    # (first and last) for a specific userid and sessionid. We use a partition key composed of the userid and sessionid, and a clustering column itemInSession to sort the results by the order # of the songs played in the session. We use a composite partition key to ensure that the data is distributed evenly across the cluster.\n",
    "query_2 = \"\"\"\n",
    "CREATE TABLE IF NOT EXISTS song_info_by_user_session (\n",
    "    user_id int,\n",
    "    session_id int,\n",
    "    item_in_session int,\n",
    "    artist text,\n",
    "    song text,\n",
    "    first_name text,\n",
    "    last_name text,\n",
    "    PRIMARY KEY ((user_id, session_id), item_in_session)\n",
    ")\n",
    "\"\"\"\n",
    "\n",
    "try:\n",
    "    session.execute(query_2)\n",
    "    print(\"Table 'song_info_by_user_session' created successfully\")\n",
    "except Exception as e:\n",
    "    print(e)\n",
    "                      "
   ]
  },
  {
   "cell_type": "code",
   "execution_count": 22,
   "outputs": [
    {
     "name": "stdout",
     "output_type": "stream",
     "text": [
      "6820 rows inserted into table 'song_info_by_user_session'\n"
     ]
    }
   ],
   "source": [
    "# Fill table song_info_by_user_session\n",
    "with open(file, encoding = 'utf8') as f:\n",
    "    csvreader = csv.reader(f)\n",
    "    next(csvreader) # skip header\n",
    "    query = \"INSERT INTO song_info_by_user_session (user_id, session_id, item_in_session, artist, song, first_name, last_name) \"\n",
    "    query = query + \" VALUES (%s, %s, %s, %s, %s, %s, %s)\"\n",
    "    for n_row, line in enumerate(csvreader, start=1):\n",
    "        session.execute(query, (int(line[10]), int(line[8]), int(line[3]), line[0], line[9], line[1], line[4]))\n",
    "print(f\"{n_row} rows inserted into table 'song_info_by_user_session'\")"
   ],
   "metadata": {
    "collapsed": false,
    "ExecuteTime": {
     "end_time": "2023-12-29T08:20:32.446773Z",
     "start_time": "2023-12-29T08:20:29.258090Z"
    }
   }
  },
  {
   "cell_type": "code",
   "execution_count": 23,
   "outputs": [
    {
     "name": "stdout",
     "output_type": "stream",
     "text": [
      "Artist: Down To The Bone, Song: Keep On Keepin' On, User: Sylvie Cruz\n",
      "Artist: Three Drives, Song: Greece 2000, User: Sylvie Cruz\n",
      "Artist: Sebastien Tellier, Song: Kilometer, User: Sylvie Cruz\n",
      "Artist: Lonnie Gordon, Song: Catch You Baby (Steve Pitron & Max Sanna Radio Edit), User: Sylvie Cruz\n"
     ]
    }
   ],
   "source": [
    "# Select statement to verify the data was entered into the table\n",
    "query = \"SELECT artist, song, first_name, last_name FROM song_info_by_user_session WHERE user_id = 10 AND session_id = 182\"\n",
    "try:\n",
    "    rows = session.execute(query)\n",
    "    # Printing the results in a readable format\n",
    "    for row in rows:\n",
    "        print(f\"Artist: {row.artist}, Song: {row.song}, User: {row.first_name} {row.last_name}\")\n",
    "except Exception as e:\n",
    "    print(e)"
   ],
   "metadata": {
    "collapsed": false,
    "ExecuteTime": {
     "end_time": "2023-12-29T08:22:54.902671Z",
     "start_time": "2023-12-29T08:22:54.890295Z"
    }
   }
  },
  {
   "cell_type": "code",
   "execution_count": 24,
   "metadata": {
    "ExecuteTime": {
     "end_time": "2023-12-29T08:27:49.997060Z",
     "start_time": "2023-12-29T08:27:49.400530Z"
    }
   },
   "outputs": [
    {
     "name": "stdout",
     "output_type": "stream",
     "text": [
      "Table 'user_info_by_song' created successfully\n"
     ]
    }
   ],
   "source": [
    "# The table user_info_by_song is designed to efficiently handle queries like Query 3, which focuses on extracting user names (first and last) for a specific song.\n",
    "query_3 = \"\"\"\n",
    "CREATE TABLE IF NOT EXISTS user_info_by_song (\n",
    "    song text,\n",
    "    user_id int,\n",
    "    first_name text,\n",
    "    last_name text,\n",
    "    PRIMARY KEY (song, user_id)\n",
    ")\n",
    "\"\"\"\n",
    "\n",
    "try:\n",
    "    session.execute(query_3)\n",
    "    print(\"Table 'user_info_by_song' created successfully\")\n",
    "except Exception as e:\n",
    "    print(e)                 "
   ]
  },
  {
   "cell_type": "code",
   "execution_count": 25,
   "outputs": [
    {
     "name": "stdout",
     "output_type": "stream",
     "text": [
      "6820 rows inserted into table 'user_info_by_song'\n"
     ]
    }
   ],
   "source": [
    "# Fill table user_info_by_song\n",
    "with open(file, encoding = 'utf8') as f:\n",
    "    csvreader = csv.reader(f)\n",
    "    next(csvreader) # skip header\n",
    "    query = \"INSERT INTO user_info_by_song (song, user_id, first_name, last_name) \"\n",
    "    query = query + \" VALUES (%s, %s, %s, %s)\"\n",
    "    for n_row, line in enumerate(csvreader, start=1):\n",
    "        session.execute(query, (line[9], int(line[10]), line[1], line[4]))\n",
    "print(f\"{n_row} rows inserted into table 'user_info_by_song'\")"
   ],
   "metadata": {
    "collapsed": false,
    "ExecuteTime": {
     "end_time": "2023-12-29T08:33:58.400568Z",
     "start_time": "2023-12-29T08:33:55.369932Z"
    }
   }
  },
  {
   "cell_type": "code",
   "execution_count": 26,
   "metadata": {
    "ExecuteTime": {
     "end_time": "2023-12-29T08:34:43.318200Z",
     "start_time": "2023-12-29T08:34:43.294347Z"
    }
   },
   "outputs": [
    {
     "name": "stdout",
     "output_type": "stream",
     "text": [
      "User: Jacqueline Lynch\n",
      "User: Tegan Levine\n",
      "User: Sara Johnson\n"
     ]
    }
   ],
   "source": [
    "# Select statement to verify the data was entered into the table\n",
    "query = \"SELECT first_name, last_name FROM user_info_by_song WHERE song = 'All Hands Against His Own'\"\n",
    "try:\n",
    "    rows = session.execute(query)\n",
    "    # Printing the results in a readable format\n",
    "    for row in rows:\n",
    "        print(f\"User: {row.first_name} {row.last_name}\")\n",
    "except Exception as e:\n",
    "    print(e)"
   ]
  },
  {
   "cell_type": "markdown",
   "metadata": {},
   "source": [
    "### Drop the tables before closing out the sessions"
   ]
  },
  {
   "cell_type": "code",
   "execution_count": 27,
   "metadata": {
    "ExecuteTime": {
     "end_time": "2023-12-29T08:36:43.350197Z",
     "start_time": "2023-12-29T08:36:36.077955Z"
    }
   },
   "outputs": [
    {
     "name": "stdout",
     "output_type": "stream",
     "text": [
      "Tables dropped successfully\n"
     ]
    }
   ],
   "source": [
    "## TO-DO: Drop the table before closing out the sessions\n",
    "query_drop1 = \"DROP TABLE IF EXISTS song_info_by_session\"\n",
    "query_drop2 = \"DROP TABLE IF EXISTS song_info_by_user_session\"\n",
    "query_drop3 = \"DROP TABLE IF EXISTS user_info_by_song\"\n",
    "try:\n",
    "    session.execute(query_drop1)\n",
    "    session.execute(query_drop2)\n",
    "    session.execute(query_drop3)\n",
    "    print(\"Tables dropped successfully\")\n",
    "except Exception as e:\n",
    "    print(e)\n"
   ]
  },
  {
   "cell_type": "markdown",
   "metadata": {},
   "source": [
    "### Close the session and cluster connection¶"
   ]
  },
  {
   "cell_type": "code",
   "execution_count": 28,
   "metadata": {
    "ExecuteTime": {
     "end_time": "2023-12-29T08:37:00.740555Z",
     "start_time": "2023-12-29T08:37:00.726752Z"
    }
   },
   "outputs": [],
   "source": [
    "session.shutdown()\n",
    "cluster.shutdown()"
   ]
  }
 ],
 "metadata": {
  "kernelspec": {
   "display_name": "Python 3",
   "language": "python",
   "name": "python3"
  },
  "language_info": {
   "codemirror_mode": {
    "name": "ipython",
    "version": 3
   },
   "file_extension": ".py",
   "mimetype": "text/x-python",
   "name": "python",
   "nbconvert_exporter": "python",
   "pygments_lexer": "ipython3",
   "version": "3.6.3"
  }
 },
 "nbformat": 4,
 "nbformat_minor": 2
}
